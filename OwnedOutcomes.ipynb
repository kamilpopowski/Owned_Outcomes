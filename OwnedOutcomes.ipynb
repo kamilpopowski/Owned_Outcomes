{
  "nbformat": 4,
  "nbformat_minor": 0,
  "metadata": {
    "colab": {
      "name": "OwnedOutcomes.ipynb",
      "provenance": [],
      "collapsed_sections": [],
      "authorship_tag": "ABX9TyNd4EIKQC6Csl69crDdMz6m",
      "include_colab_link": true
    },
    "kernelspec": {
      "name": "python3",
      "display_name": "Python 3"
    },
    "accelerator": "GPU"
  },
  "cells": [
    {
      "cell_type": "markdown",
      "metadata": {
        "id": "view-in-github",
        "colab_type": "text"
      },
      "source": [
        "<a href=\"https://colab.research.google.com/github/kamilpopowski/Owned_Outcomes/blob/master/OwnedOutcomes.ipynb\" target=\"_parent\"><img src=\"https://colab.research.google.com/assets/colab-badge.svg\" alt=\"Open In Colab\"/></a>"
      ]
    },
    {
      "cell_type": "code",
      "metadata": {
        "id": "IKUp2F4ZlnfR",
        "colab_type": "code",
        "outputId": "bf0aa14d-b75d-4215-9630-fec3ca2fc34d",
        "colab": {
          "base_uri": "https://localhost:8080/",
          "height": 96
        }
      },
      "source": [
        "from __future__ import absolute_import, division, print_function, unicode_literals\n",
        "\n",
        "\n",
        "import tensorflow as tf\n",
        "from tensorflow import keras\n",
        "from keras.models import Sequential #pozwala na budowanie modelu warstwa po warstwie\n",
        "from keras.layers import Dense, Flatten, Conv2D, MaxPooling2D #Dense - przypisujemy mu finkcje aktywacyjną; Flatten - 'wypłaszcza' dane z obrazków; Conv2D - odpowiedzialna za konwolucje;\n",
        "\n",
        "\n",
        "import numpy as np\n",
        "import matplotlib.pyplot as plt # \n",
        "import seaborn as sb\n",
        "sb.set()\n",
        "\n",
        "print(tf.__version__)"
      ],
      "execution_count": 1,
      "outputs": [
        {
          "output_type": "display_data",
          "data": {
            "text/html": [
              "<p style=\"color: red;\">\n",
              "The default version of TensorFlow in Colab will soon switch to TensorFlow 2.x.<br>\n",
              "We recommend you <a href=\"https://www.tensorflow.org/guide/migrate\" target=\"_blank\">upgrade</a> now \n",
              "or ensure your notebook will continue to use TensorFlow 1.x via the <code>%tensorflow_version 1.x</code> magic:\n",
              "<a href=\"https://colab.research.google.com/notebooks/tensorflow_version.ipynb\" target=\"_blank\">more info</a>.</p>\n"
            ],
            "text/plain": [
              "<IPython.core.display.HTML object>"
            ]
          },
          "metadata": {
            "tags": []
          }
        },
        {
          "output_type": "stream",
          "text": [
            "Using TensorFlow backend.\n"
          ],
          "name": "stderr"
        },
        {
          "output_type": "stream",
          "text": [
            "1.15.0\n"
          ],
          "name": "stdout"
        }
      ]
    },
    {
      "cell_type": "code",
      "metadata": {
        "id": "1HcphSKenfpd",
        "colab_type": "code",
        "colab": {
          "base_uri": "https://localhost:8080/",
          "height": 151
        },
        "outputId": "b04a2446-176a-4ef6-e3c1-3d88c47f0579"
      },
      "source": [
        "fashion_mnist = keras.datasets.fashion_mnist\n",
        "\n",
        "(train_images, train_labels), (test_images, test_labels) = fashion_mnist.load_data()\n"
      ],
      "execution_count": 2,
      "outputs": [
        {
          "output_type": "stream",
          "text": [
            "Downloading data from https://storage.googleapis.com/tensorflow/tf-keras-datasets/train-labels-idx1-ubyte.gz\n",
            "32768/29515 [=================================] - 0s 0us/step\n",
            "Downloading data from https://storage.googleapis.com/tensorflow/tf-keras-datasets/train-images-idx3-ubyte.gz\n",
            "26427392/26421880 [==============================] - 0s 0us/step\n",
            "Downloading data from https://storage.googleapis.com/tensorflow/tf-keras-datasets/t10k-labels-idx1-ubyte.gz\n",
            "8192/5148 [===============================================] - 0s 0us/step\n",
            "Downloading data from https://storage.googleapis.com/tensorflow/tf-keras-datasets/t10k-images-idx3-ubyte.gz\n",
            "4423680/4422102 [==============================] - 0s 0us/step\n"
          ],
          "name": "stdout"
        }
      ]
    },
    {
      "cell_type": "code",
      "metadata": {
        "id": "FUNmM4Rrnvpi",
        "colab_type": "code",
        "colab": {}
      },
      "source": [
        "class_names = ['T-shirt/top', 'Trouser', 'Pullover', 'Dress', 'Coat',\n",
        "               'Sandal', 'Shirt', 'Sneaker', 'Bag', 'Ankle boot']"
      ],
      "execution_count": 0,
      "outputs": []
    },
    {
      "cell_type": "code",
      "metadata": {
        "id": "jprMUjqPoSR1",
        "colab_type": "code",
        "outputId": "168f7688-0020-4213-f447-9e88cab393b3",
        "colab": {
          "base_uri": "https://localhost:8080/",
          "height": 67
        }
      },
      "source": [
        "print(train_images.shape)\n",
        "print('liczba próbek: ', train_images.shape[0])\n",
        "print('rozmiar obrazka: ', train_images[0].shape)"
      ],
      "execution_count": 4,
      "outputs": [
        {
          "output_type": "stream",
          "text": [
            "(60000, 28, 28)\n",
            "liczba próbek:  60000\n",
            "rozmiar obrazka:  (28, 28)\n"
          ],
          "name": "stdout"
        }
      ]
    },
    {
      "cell_type": "code",
      "metadata": {
        "id": "2IFRKbgREuK3",
        "colab_type": "code",
        "outputId": "55c495c4-2cfd-42d9-ffef-7a0c62d8dcd6",
        "colab": {
          "base_uri": "https://localhost:8080/",
          "height": 265
        }
      },
      "source": [
        "plt.figure()\n",
        "plt.imshow(train_images[0], cmap='Greys')\n",
        "plt.axis('off')"
      ],
      "execution_count": 5,
      "outputs": [
        {
          "output_type": "execute_result",
          "data": {
            "text/plain": [
              "(-0.5, 27.5, 27.5, -0.5)"
            ]
          },
          "metadata": {
            "tags": []
          },
          "execution_count": 5
        },
        {
          "output_type": "display_data",
          "data": {
            "image/png": "[encoded data removed]",
            "text/plain": [
              "<Figure size 432x288 with 1 Axes>"
            ]
          },
          "metadata": {
            "tags": []
          }
        }
      ]
    },
    {
      "cell_type": "code",
      "metadata": {
        "id": "_23vPkNRqgGI",
        "colab_type": "code",
        "outputId": "ccffaf5f-0a34-4c1c-bf6e-541433b95298",
        "colab": {
          "base_uri": "https://localhost:8080/",
          "height": 34
        }
      },
      "source": [
        "print(keras.backend.image_data_format()) #wyświetlenie rodzaju zapisu danych"
      ],
      "execution_count": 6,
      "outputs": [
        {
          "output_type": "stream",
          "text": [
            "channels_last\n"
          ],
          "name": "stdout"
        }
      ]
    },
    {
      "cell_type": "code",
      "metadata": {
        "id": "oL9IxmPLEjkA",
        "colab_type": "code",
        "outputId": "2b237fc7-e1e9-455f-e0fa-a2ab392a5eeb",
        "colab": {
          "base_uri": "https://localhost:8080/",
          "height": 34
        }
      },
      "source": [
        "#Dane przyjmują dwa rodzaje zapisu (channelr last lub channel first), do sieci należy podać liczbę kanałów, w tworzonej sieci mamy 1 kanał ponieważ obrazki są czarno - białe\n",
        "#w przypadku channels last kanał podajemy na końcu tj. 28, 28, 1, w przypadku channel first kanał podajemy na początku - 1, 28, 28\n",
        "\n",
        "img_rows, img_cols = 28, 28\n",
        "if keras.backend.image_data_format() == 'channel_first':  #jeżeli nasza opcja to przekształcamy dane tak aby na początku była liczba próbek, następnie kanał i rozmiar obrazka\n",
        "  train_images = train_images.reshape(train_images.shape[0], 1, img_rows, img_cols)\n",
        "  test_images = test_images.reshape(test_images.shape[0], 1, img_rows, img_cols)\n",
        "  input_shape = (1, img_rows, img_cols)\n",
        "else: #w przeciwnym wypadku kanał ustawiamy na ostatnim miejscu\n",
        "  train_images = train_images.reshape(train_images.shape[0], img_rows, img_cols, 1) \n",
        "  test_images = test_images.reshape(test_images.shape[0], img_rows, img_cols, 1)\n",
        "  input_shape = (img_rows, img_cols, 1)\n",
        "\n",
        "print(input_shape)"
      ],
      "execution_count": 7,
      "outputs": [
        {
          "output_type": "stream",
          "text": [
            "(28, 28, 1)\n"
          ],
          "name": "stdout"
        }
      ]
    },
    {
      "cell_type": "code",
      "metadata": {
        "id": "plvXABilpI8z",
        "colab_type": "code",
        "outputId": "759a9c04-1179-463f-e216-bbaba56a98e3",
        "colab": {
          "base_uri": "https://localhost:8080/",
          "height": 34
        }
      },
      "source": [
        "len(train_labels)"
      ],
      "execution_count": 8,
      "outputs": [
        {
          "output_type": "execute_result",
          "data": {
            "text/plain": [
              "60000"
            ]
          },
          "metadata": {
            "tags": []
          },
          "execution_count": 8
        }
      ]
    },
    {
      "cell_type": "code",
      "metadata": {
        "id": "OvO6oHJYsaeU",
        "colab_type": "code",
        "outputId": "2f2c2512-04f6-4ebb-c243-d74a202f25d3",
        "colab": {
          "base_uri": "https://localhost:8080/",
          "height": 34
        }
      },
      "source": [
        "train_labels[0:10]"
      ],
      "execution_count": 9,
      "outputs": [
        {
          "output_type": "execute_result",
          "data": {
            "text/plain": [
              "array([9, 0, 0, 3, 0, 2, 7, 2, 5, 5], dtype=uint8)"
            ]
          },
          "metadata": {
            "tags": []
          },
          "execution_count": 9
        }
      ]
    },
    {
      "cell_type": "code",
      "metadata": {
        "id": "nQ7XmExhsx63",
        "colab_type": "code",
        "outputId": "9cc63a2e-395c-4b55-95c4-a27e871a86eb",
        "colab": {
          "base_uri": "https://localhost:8080/",
          "height": 50
        }
      },
      "source": [
        "train_images = train_images.astype('float32') #przekonwertowanie dancyh na typ float\n",
        "test_images = test_images.astype('float32') \n",
        "\n",
        "train_images /= 255 #wystandaryzowanie danych do przedziału od 0 do 1 (pozwala to na lepszą nauke sieci)\n",
        "test_images /= 255\n",
        "\n",
        "print(train_images.shape)\n",
        "print(test_images.shape)"
      ],
      "execution_count": 10,
      "outputs": [
        {
          "output_type": "stream",
          "text": [
            "(60000, 28, 28, 1)\n",
            "(10000, 28, 28, 1)\n"
          ],
          "name": "stdout"
        }
      ]
    },
    {
      "cell_type": "code",
      "metadata": {
        "id": "VuKFT2TU0Ihy",
        "colab_type": "code",
        "outputId": "fa64007f-1c65-41a0-f74e-20490c536fdd",
        "colab": {
          "base_uri": "https://localhost:8080/",
          "height": 50
        }
      },
      "source": [
        "#dzieki zastosowanej metodzie, bazujac na tablicy class_names w wektorze przypisana zostaje wartosc 1 dla rozpoznanego przedmiotu\n",
        "#dalsze omówienie poniżej\n",
        "train_labels = keras.utils.to_categorical(train_labels, num_classes=10) \n",
        "test_labels = keras.utils.to_categorical(test_labels, num_classes=10)\n",
        "\n",
        "print(train_labels.shape)\n",
        "print(test_labels.shape)"
      ],
      "execution_count": 11,
      "outputs": [
        {
          "output_type": "stream",
          "text": [
            "(60000, 10)\n",
            "(10000, 10)\n"
          ],
          "name": "stdout"
        }
      ]
    },
    {
      "cell_type": "code",
      "metadata": {
        "id": "-nSZO8CX0qmN",
        "colab_type": "code",
        "outputId": "ff4b21d2-9302-42a2-890f-365914216c69",
        "colab": {
          "base_uri": "https://localhost:8080/",
          "height": 185
        }
      },
      "source": [
        "train_labels[0:10]  \n",
        "#w wektorze każda wartość liczbowa w indeksie odpowiada wartości w tablicy class_names, miejsce 0 - 'T-shirt/top', 1 - 'Trouser', 2 - 'Pullover' itd.\n",
        "#w chwili gdy na obrazku rozpoznana zostanie np. 'Dress' wartość 1w wektorze ustawi się na 4 miejscu\n",
        "#poniżej wyświetlono wektory dla 10 obrazków, wynika z nich, że 'Dress' znajduje się na 4 obrazku"
      ],
      "execution_count": 12,
      "outputs": [
        {
          "output_type": "execute_result",
          "data": {
            "text/plain": [
              "array([[0., 0., 0., 0., 0., 0., 0., 0., 0., 1.],\n",
              "       [1., 0., 0., 0., 0., 0., 0., 0., 0., 0.],\n",
              "       [1., 0., 0., 0., 0., 0., 0., 0., 0., 0.],\n",
              "       [0., 0., 0., 1., 0., 0., 0., 0., 0., 0.],\n",
              "       [1., 0., 0., 0., 0., 0., 0., 0., 0., 0.],\n",
              "       [0., 0., 1., 0., 0., 0., 0., 0., 0., 0.],\n",
              "       [0., 0., 0., 0., 0., 0., 0., 1., 0., 0.],\n",
              "       [0., 0., 1., 0., 0., 0., 0., 0., 0., 0.],\n",
              "       [0., 0., 0., 0., 0., 1., 0., 0., 0., 0.],\n",
              "       [0., 0., 0., 0., 0., 1., 0., 0., 0., 0.]], dtype=float32)"
            ]
          },
          "metadata": {
            "tags": []
          },
          "execution_count": 12
        }
      ]
    },
    {
      "cell_type": "code",
      "metadata": {
        "id": "R9y5qjk20tfj",
        "colab_type": "code",
        "outputId": "aec4ca16-dfe8-4a9c-c320-7b79c3fb144e",
        "colab": {
          "base_uri": "https://localhost:8080/",
          "height": 507
        }
      },
      "source": [
        "model = Sequential() #utworzenie obiektu klasy Sequential, następnie ułożone zostały warstwy modelu\n",
        "model.add(Conv2D(filters=32, kernel_size=(3, 3), activation='relu', input_shape=(28, 28, 1)))#filters - liczba filtrów za pomocą których sieć tworzy mapę cech, kerner_size - rozmiar zastosowanego filtru\n",
        "#activation - funkcja aktywacji, zastosowano funkcję relu (dla wartości ujemnych funkcja przyjmuje wartość 0, aktywowana jest dla wartości dodatnich)\n",
        "model.add(Conv2D(filters=64, kernel_size=(3, 3), activation='relu'))\n",
        "model.add(MaxPooling2D(pool_size=(2, 2)))#warstwa MaxPooling zmniejsza złożoność problemu. pool_size jest rozmiarem okna ekstrakcji, które 'chodzi' po pikselach\n",
        "model.add(Flatten())\n",
        "model.add(Dense(units=128, activation='relu')) # units=128 - liczba neuronów\n",
        "model.add(Dense(units=10, activation='softmax')) #units=10 - liczba klas, które chcemy przewidzieć, funkcja softmax zwróci nam prawdopodobieństwo poszczególnych klas\n",
        "\n",
        "model.summary() #podsumowanie modelu"
      ],
      "execution_count": 13,
      "outputs": [
        {
          "output_type": "stream",
          "text": [
            "WARNING:tensorflow:From /usr/local/lib/python3.6/dist-packages/keras/backend/tensorflow_backend.py:66: The name tf.get_default_graph is deprecated. Please use tf.compat.v1.get_default_graph instead.\n",
            "\n",
            "WARNING:tensorflow:From /usr/local/lib/python3.6/dist-packages/keras/backend/tensorflow_backend.py:541: The name tf.placeholder is deprecated. Please use tf.compat.v1.placeholder instead.\n",
            "\n",
            "WARNING:tensorflow:From /usr/local/lib/python3.6/dist-packages/keras/backend/tensorflow_backend.py:4432: The name tf.random_uniform is deprecated. Please use tf.random.uniform instead.\n",
            "\n",
            "WARNING:tensorflow:From /usr/local/lib/python3.6/dist-packages/keras/backend/tensorflow_backend.py:4267: The name tf.nn.max_pool is deprecated. Please use tf.nn.max_pool2d instead.\n",
            "\n",
            "Model: \"sequential_1\"\n",
            "_________________________________________________________________\n",
            "Layer (type)                 Output Shape              Param #   \n",
            "=================================================================\n",
            "conv2d_1 (Conv2D)            (None, 26, 26, 32)        320       \n",
            "_________________________________________________________________\n",
            "conv2d_2 (Conv2D)            (None, 24, 24, 64)        18496     \n",
            "_________________________________________________________________\n",
            "max_pooling2d_1 (MaxPooling2 (None, 12, 12, 64)        0         \n",
            "_________________________________________________________________\n",
            "flatten_1 (Flatten)          (None, 9216)              0         \n",
            "_________________________________________________________________\n",
            "dense_1 (Dense)              (None, 128)               1179776   \n",
            "_________________________________________________________________\n",
            "dense_2 (Dense)              (None, 10)                1290      \n",
            "=================================================================\n",
            "Total params: 1,199,882\n",
            "Trainable params: 1,199,882\n",
            "Non-trainable params: 0\n",
            "_________________________________________________________________\n"
          ],
          "name": "stdout"
        }
      ]
    },
    {
      "cell_type": "code",
      "metadata": {
        "id": "P1DhqvA6GNHF",
        "colab_type": "code",
        "outputId": "3fb387f5-ff41-4b57-af23-84ca1daf32f7",
        "colab": {
          "base_uri": "https://localhost:8080/",
          "height": 84
        }
      },
      "source": [
        "model.compile(optimizer='adadelta', \n",
        "              loss='categorical_crossentropy',\n",
        "              metrics=['accuracy'])"
      ],
      "execution_count": 14,
      "outputs": [
        {
          "output_type": "stream",
          "text": [
            "WARNING:tensorflow:From /usr/local/lib/python3.6/dist-packages/keras/optimizers.py:793: The name tf.train.Optimizer is deprecated. Please use tf.compat.v1.train.Optimizer instead.\n",
            "\n",
            "WARNING:tensorflow:From /usr/local/lib/python3.6/dist-packages/keras/backend/tensorflow_backend.py:3576: The name tf.log is deprecated. Please use tf.math.log instead.\n",
            "\n"
          ],
          "name": "stdout"
        }
      ]
    },
    {
      "cell_type": "code",
      "metadata": {
        "id": "q8volAapG3sD",
        "colab_type": "code",
        "outputId": "ae20864e-f951-4c26-d29d-761b1c6888f2",
        "colab": {
          "base_uri": "https://localhost:8080/",
          "height": 709
        }
      },
      "source": [
        "his = model.fit(train_images, train_labels, batch_size=128, epochs=10, validation_data=(test_images, test_labels))"
      ],
      "execution_count": 15,
      "outputs": [
        {
          "output_type": "stream",
          "text": [
            "WARNING:tensorflow:From /usr/local/lib/python3.6/dist-packages/tensorflow_core/python/ops/math_grad.py:1424: where (from tensorflow.python.ops.array_ops) is deprecated and will be removed in a future version.\n",
            "Instructions for updating:\n",
            "Use tf.where in 2.0, which has the same broadcast rule as np.where\n",
            "WARNING:tensorflow:From /usr/local/lib/python3.6/dist-packages/keras/backend/tensorflow_backend.py:1033: The name tf.assign_add is deprecated. Please use tf.compat.v1.assign_add instead.\n",
            "\n",
            "WARNING:tensorflow:From /usr/local/lib/python3.6/dist-packages/keras/backend/tensorflow_backend.py:1020: The name tf.assign is deprecated. Please use tf.compat.v1.assign instead.\n",
            "\n",
            "WARNING:tensorflow:From /usr/local/lib/python3.6/dist-packages/keras/backend/tensorflow_backend.py:3005: The name tf.Session is deprecated. Please use tf.compat.v1.Session instead.\n",
            "\n",
            "Train on 60000 samples, validate on 10000 samples\n",
            "Epoch 1/10\n",
            "WARNING:tensorflow:From /usr/local/lib/python3.6/dist-packages/keras/backend/tensorflow_backend.py:190: The name tf.get_default_session is deprecated. Please use tf.compat.v1.get_default_session instead.\n",
            "\n",
            "WARNING:tensorflow:From /usr/local/lib/python3.6/dist-packages/keras/backend/tensorflow_backend.py:197: The name tf.ConfigProto is deprecated. Please use tf.compat.v1.ConfigProto instead.\n",
            "\n",
            "WARNING:tensorflow:From /usr/local/lib/python3.6/dist-packages/keras/backend/tensorflow_backend.py:207: The name tf.global_variables is deprecated. Please use tf.compat.v1.global_variables instead.\n",
            "\n",
            "WARNING:tensorflow:From /usr/local/lib/python3.6/dist-packages/keras/backend/tensorflow_backend.py:216: The name tf.is_variable_initialized is deprecated. Please use tf.compat.v1.is_variable_initialized instead.\n",
            "\n",
            "WARNING:tensorflow:From /usr/local/lib/python3.6/dist-packages/keras/backend/tensorflow_backend.py:223: The name tf.variables_initializer is deprecated. Please use tf.compat.v1.variables_initializer instead.\n",
            "\n",
            "60000/60000 [==============================] - 17s 291us/step - loss: 0.5029 - acc: 0.8192 - val_loss: 0.3826 - val_acc: 0.8576\n",
            "Epoch 2/10\n",
            "60000/60000 [==============================] - 3s 57us/step - loss: 0.2982 - acc: 0.8922 - val_loss: 0.2872 - val_acc: 0.8966\n",
            "Epoch 3/10\n",
            "60000/60000 [==============================] - 3s 56us/step - loss: 0.2459 - acc: 0.9093 - val_loss: 0.2649 - val_acc: 0.9044\n",
            "Epoch 4/10\n",
            "60000/60000 [==============================] - 3s 57us/step - loss: 0.2108 - acc: 0.9224 - val_loss: 0.2501 - val_acc: 0.9079\n",
            "Epoch 5/10\n",
            "60000/60000 [==============================] - 3s 56us/step - loss: 0.1808 - acc: 0.9333 - val_loss: 0.2462 - val_acc: 0.9105\n",
            "Epoch 6/10\n",
            "60000/60000 [==============================] - 3s 57us/step - loss: 0.1549 - acc: 0.9436 - val_loss: 0.2545 - val_acc: 0.9105\n",
            "Epoch 7/10\n",
            "60000/60000 [==============================] - 3s 56us/step - loss: 0.1328 - acc: 0.9516 - val_loss: 0.2424 - val_acc: 0.9186\n",
            "Epoch 8/10\n",
            "60000/60000 [==============================] - 3s 57us/step - loss: 0.1105 - acc: 0.9597 - val_loss: 0.2453 - val_acc: 0.9165\n",
            "Epoch 9/10\n",
            "60000/60000 [==============================] - 3s 58us/step - loss: 0.0912 - acc: 0.9668 - val_loss: 0.2460 - val_acc: 0.9216\n",
            "Epoch 10/10\n",
            "60000/60000 [==============================] - 3s 58us/step - loss: 0.0753 - acc: 0.9727 - val_loss: 0.2571 - val_acc: 0.9198\n"
          ],
          "name": "stdout"
        }
      ]
    },
    {
      "cell_type": "code",
      "metadata": {
        "id": "BpYPehokHX3-",
        "colab_type": "code",
        "colab": {}
      },
      "source": [
        ""
      ],
      "execution_count": 0,
      "outputs": []
    }
  ]
}