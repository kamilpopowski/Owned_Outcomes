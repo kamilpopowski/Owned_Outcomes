{
  "nbformat": 4,
  "nbformat_minor": 0,
  "metadata": {
    "colab": {
      "name": "OwnedOutcomes.ipynb",
      "provenance": [],
      "collapsed_sections": [],
      "authorship_tag": "ABX9TyMjssmOVhm4gMK9zqd2fB4a",
      "include_colab_link": true
    },
    "kernelspec": {
      "name": "python3",
      "display_name": "Python 3"
    },
    "accelerator": "GPU"
  },
  "cells": [
    {
      "cell_type": "markdown",
      "metadata": {
        "id": "view-in-github",
        "colab_type": "text"
      },
      "source": [
        "<a href=\"https://colab.research.google.com/github/kamilpopowski/Owned_Outcomes/blob/master/OwnedOutcomes.ipynb\" target=\"_parent\"><img src=\"https://colab.research.google.com/assets/colab-badge.svg\" alt=\"Open In Colab\"/></a>"
      ]
    },
    {
      "cell_type": "code",
      "metadata": {
        "id": "IKUp2F4ZlnfR",
        "colab_type": "code",
        "outputId": "087f8d28-e849-4f30-96e5-90ccf6e6a1a0",
        "colab": {
          "base_uri": "https://localhost:8080/",
          "height": 34
        }
      },
      "source": [
        "from __future__ import absolute_import, division, print_function, unicode_literals\n",
        "\n",
        "\n",
        "import tensorflow as tf\n",
        "from tensorflow import keras\n",
        "from keras.models import Sequential #pozwala na budowanie modelu warstwa po warstwie\n",
        "from keras.layers import Dense, Flatten, Conv2D, MaxPooling2D #Dense - przypisujemy mu finkcje aktywacyjną; Flatten - 'wypłaszcza' dane z obrazków; Conv2D - odpowiedzialna za konwolucje;\n",
        "\n",
        "\n",
        "import numpy as np\n",
        "import matplotlib.pyplot as plt #zastosowano do wyświetlenia obrazków oraz zobrazowania na późniejszym wykresie dokładności oraz straty trenowania i walidacji  \n",
        "import seaborn as sb #seaborn zapewnia lepszy wygląd wykresów\n",
        "sb.set() #włączenie seaborn\n",
        "\n",
        "print(tf.__version__)"
      ],
      "execution_count": 59,
      "outputs": [
        {
          "output_type": "stream",
          "text": [
            "1.15.0\n"
          ],
          "name": "stdout"
        }
      ]
    },
    {
      "cell_type": "code",
      "metadata": {
        "id": "1HcphSKenfpd",
        "colab_type": "code",
        "colab": {}
      },
      "source": [
        "fashion_mnist = keras.datasets.fashion_mnist #pobranie obrazków treningowych oraz testowych   \n",
        "\n",
        "(train_images, train_labels), (test_images, test_labels) = fashion_mnist.load_data() #utworzenie tuplu treningowych oraz testowych\n"
      ],
      "execution_count": 0,
      "outputs": []
    },
    {
      "cell_type": "code",
      "metadata": {
        "id": "FUNmM4Rrnvpi",
        "colab_type": "code",
        "colab": {}
      },
      "source": [
        "class_names = ['T-shirt/top', 'Trouser', 'Pullover', 'Dress', 'Coat',\n",
        "               'Sandal', 'Shirt', 'Sneaker', 'Bag', 'Ankle boot'] #tablica zawierająca nazwy przedmiotów znajdujących się w zbiorze danych "
      ],
      "execution_count": 0,
      "outputs": []
    },
    {
      "cell_type": "code",
      "metadata": {
        "id": "jprMUjqPoSR1",
        "colab_type": "code",
        "outputId": "d354ef21-305b-4d9f-b066-44e23057e2ea",
        "colab": {
          "base_uri": "https://localhost:8080/",
          "height": 67
        }
      },
      "source": [
        "print(train_images.shape) #wyświetlenie liczby próbek przeznaczonych do trenowania oraz rozmiaru obrazków\n",
        "print('liczba próbek: ', train_images.shape[0])\n",
        "print('rozmiar obrazka: ', train_images[0].shape)"
      ],
      "execution_count": 62,
      "outputs": [
        {
          "output_type": "stream",
          "text": [
            "(60000, 28, 28)\n",
            "liczba próbek:  60000\n",
            "rozmiar obrazka:  (28, 28)\n"
          ],
          "name": "stdout"
        }
      ]
    },
    {
      "cell_type": "code",
      "metadata": {
        "id": "2IFRKbgREuK3",
        "colab_type": "code",
        "outputId": "90ce0f4d-8211-4b3a-8e86-2bb9bd732673",
        "colab": {
          "base_uri": "https://localhost:8080/",
          "height": 265
        }
      },
      "source": [
        "plt.figure() #wyświetlenie przykładowego obrazu ze zbioru danych treningowych\n",
        "plt.imshow(train_images[0], cmap='Greys')\n",
        "plt.axis('off')"
      ],
      "execution_count": 63,
      "outputs": [
        {
          "output_type": "execute_result",
          "data": {
            "text/plain": [
              "(-0.5, 27.5, 27.5, -0.5)"
            ]
          },
          "metadata": {
            "tags": []
          },
          "execution_count": 63
        },
        {
          "output_type": "display_data",
          "data": {
            "image/png": "[encoded data removed]",
            "text/plain": [
              "<Figure size 432x288 with 1 Axes>"
            ]
          },
          "metadata": {
            "tags": []
          }
        }
      ]
    },
    {
      "cell_type": "code",
      "metadata": {
        "id": "_23vPkNRqgGI",
        "colab_type": "code",
        "outputId": "f1e4638c-781e-4c1f-ca81-734f9358d8b5",
        "colab": {
          "base_uri": "https://localhost:8080/",
          "height": 34
        }
      },
      "source": [
        "print(keras.backend.image_data_format()) #wyświetlenie rodzaju zapisu danych"
      ],
      "execution_count": 64,
      "outputs": [
        {
          "output_type": "stream",
          "text": [
            "channels_last\n"
          ],
          "name": "stdout"
        }
      ]
    },
    {
      "cell_type": "code",
      "metadata": {
        "id": "oL9IxmPLEjkA",
        "colab_type": "code",
        "outputId": "e2dcb41b-f800-406f-ae65-b2c2320ac055",
        "colab": {
          "base_uri": "https://localhost:8080/",
          "height": 34
        }
      },
      "source": [
        "#Dane przyjmują dwa rodzaje zapisu (channelr last lub channel first), do sieci należy podać liczbę kanałów, w tworzonej sieci mamy 1 kanał ponieważ obrazki są czarno - białe\n",
        "#w przypadku channels last kanał podajemy na końcu tj. 28, 28, 1, w przypadku channel first kanał podajemy na początku - 1, 28, 28\n",
        "\n",
        "img_rows, img_cols = 28, 28\n",
        "if keras.backend.image_data_format() == 'channel_first':  #jeżeli nasza opcja to przekształcamy dane tak aby na początku była liczba próbek, następnie kanał i rozmiar obrazka\n",
        "  train_images = train_images.reshape(train_images.shape[0], 1, img_rows, img_cols)\n",
        "  test_images = test_images.reshape(test_images.shape[0], 1, img_rows, img_cols)\n",
        "  input_shape = (1, img_rows, img_cols)\n",
        "else: #w przeciwnym wypadku kanał ustawiamy na ostatnim miejscu\n",
        "  train_images = train_images.reshape(train_images.shape[0], img_rows, img_cols, 1) \n",
        "  test_images = test_images.reshape(test_images.shape[0], img_rows, img_cols, 1)\n",
        "  input_shape = (img_rows, img_cols, 1)\n",
        "\n",
        "print(input_shape)"
      ],
      "execution_count": 65,
      "outputs": [
        {
          "output_type": "stream",
          "text": [
            "(28, 28, 1)\n"
          ],
          "name": "stdout"
        }
      ]
    },
    {
      "cell_type": "code",
      "metadata": {
        "id": "plvXABilpI8z",
        "colab_type": "code",
        "outputId": "23c87116-8498-446b-e754-eeb3b27aba41",
        "colab": {
          "base_uri": "https://localhost:8080/",
          "height": 34
        }
      },
      "source": [
        "len(train_labels)"
      ],
      "execution_count": 66,
      "outputs": [
        {
          "output_type": "execute_result",
          "data": {
            "text/plain": [
              "60000"
            ]
          },
          "metadata": {
            "tags": []
          },
          "execution_count": 66
        }
      ]
    },
    {
      "cell_type": "code",
      "metadata": {
        "id": "OvO6oHJYsaeU",
        "colab_type": "code",
        "outputId": "299b8ed6-02d0-4093-fd19-56a77fa113c4",
        "colab": {
          "base_uri": "https://localhost:8080/",
          "height": 34
        }
      },
      "source": [
        "train_labels[0:10]"
      ],
      "execution_count": 67,
      "outputs": [
        {
          "output_type": "execute_result",
          "data": {
            "text/plain": [
              "array([9, 0, 0, 3, 0, 2, 7, 2, 5, 5], dtype=uint8)"
            ]
          },
          "metadata": {
            "tags": []
          },
          "execution_count": 67
        }
      ]
    },
    {
      "cell_type": "code",
      "metadata": {
        "id": "nQ7XmExhsx63",
        "colab_type": "code",
        "outputId": "b72c9d3d-1069-4dad-f41c-fbd79fe84b49",
        "colab": {
          "base_uri": "https://localhost:8080/",
          "height": 50
        }
      },
      "source": [
        "train_images = train_images.astype('float32') #przekonwertowanie dancyh na typ float\n",
        "test_images = test_images.astype('float32') \n",
        "\n",
        "train_images /= 255 #wystandaryzowanie danych do przedziału od 0 do 1 (pozwala to na lepszą nauke sieci)\n",
        "test_images /= 255\n",
        "\n",
        "print(train_images.shape)\n",
        "print(test_images.shape)"
      ],
      "execution_count": 68,
      "outputs": [
        {
          "output_type": "stream",
          "text": [
            "(60000, 28, 28, 1)\n",
            "(10000, 28, 28, 1)\n"
          ],
          "name": "stdout"
        }
      ]
    },
    {
      "cell_type": "code",
      "metadata": {
        "id": "VuKFT2TU0Ihy",
        "colab_type": "code",
        "outputId": "164af247-cd2d-4788-c9a0-85504ac07ffc",
        "colab": {
          "base_uri": "https://localhost:8080/",
          "height": 50
        }
      },
      "source": [
        "#metoda jako argumenty przyjmuje odpowiednio dla obu zmiennych train_labels, test_labels oraz liczbe klas następnie konwertuje klasy na binarną macierz\n",
        "#dalsze omówienie poniżej\n",
        "train_labels = keras.utils.to_categorical(train_labels, num_classes=10) \n",
        "test_labels = keras.utils.to_categorical(test_labels, num_classes=10)\n",
        "\n",
        "print(train_labels.shape)\n",
        "print(test_labels.shape)"
      ],
      "execution_count": 69,
      "outputs": [
        {
          "output_type": "stream",
          "text": [
            "(60000, 10)\n",
            "(10000, 10)\n"
          ],
          "name": "stdout"
        }
      ]
    },
    {
      "cell_type": "code",
      "metadata": {
        "id": "-nSZO8CX0qmN",
        "colab_type": "code",
        "outputId": "c0dcd01b-2063-4765-bdae-d83d835d10a3",
        "colab": {
          "base_uri": "https://localhost:8080/",
          "height": 185
        }
      },
      "source": [
        "train_labels[0:10]  \n",
        "#w wektorze każda wartość liczbowa w indeksie odpowiada wartości w tablicy class_names, miejsce 0 - 'T-shirt/top', 1 - 'Trouser', 2 - 'Pullover' itd.\n",
        "#w chwili gdy na obrazku rozpoznana zostanie np. 'Dress' wartość 1 w wektorze ustawi się na 4 miejscu\n",
        "#poniżej wyświetlono wektory dla 10 obrazków, wynika z nich, że 'Dress' znajduje się na 4 obrazku"
      ],
      "execution_count": 70,
      "outputs": [
        {
          "output_type": "execute_result",
          "data": {
            "text/plain": [
              "array([[0., 0., 0., 0., 0., 0., 0., 0., 0., 1.],\n",
              "       [1., 0., 0., 0., 0., 0., 0., 0., 0., 0.],\n",
              "       [1., 0., 0., 0., 0., 0., 0., 0., 0., 0.],\n",
              "       [0., 0., 0., 1., 0., 0., 0., 0., 0., 0.],\n",
              "       [1., 0., 0., 0., 0., 0., 0., 0., 0., 0.],\n",
              "       [0., 0., 1., 0., 0., 0., 0., 0., 0., 0.],\n",
              "       [0., 0., 0., 0., 0., 0., 0., 1., 0., 0.],\n",
              "       [0., 0., 1., 0., 0., 0., 0., 0., 0., 0.],\n",
              "       [0., 0., 0., 0., 0., 1., 0., 0., 0., 0.],\n",
              "       [0., 0., 0., 0., 0., 1., 0., 0., 0., 0.]], dtype=float32)"
            ]
          },
          "metadata": {
            "tags": []
          },
          "execution_count": 70
        }
      ]
    },
    {
      "cell_type": "code",
      "metadata": {
        "id": "R9y5qjk20tfj",
        "colab_type": "code",
        "outputId": "374a505f-030b-4e48-8ea6-42a79ab16b55",
        "colab": {
          "base_uri": "https://localhost:8080/",
          "height": 353
        }
      },
      "source": [
        "model = Sequential() #utworzenie obiektu klasy Sequential, dzięki temu zabiegowi model można tworzyć warstwa po warstwie\n",
        "model.add(Conv2D(filters=32, kernel_size=(3, 3), activation='relu', input_shape=(28, 28, 1)))#filters - liczba filtrów za pomocą których sieć tworzy mapę cech, kerner_size - rozmiar zastosowanego filtru\n",
        "#activation - funkcja aktywacji, zastosowano funkcję relu (dla wartości ujemnych funkcja przyjmuje wartość 0, aktywowana jest dla wartości dodatnich)\n",
        "model.add(Conv2D(filters=64, kernel_size=(3, 3), activation='relu'))\n",
        "model.add(MaxPooling2D(pool_size=(2, 2)))#warstwa MaxPooling zmniejsza złożoność problemu. pool_size jest rozmiarem okna ekstrakcji, które 'chodzi' po pikselach\n",
        "model.add(Flatten())\n",
        "model.add(Dense(units=128, activation='relu')) # units=128 - liczba neuronów\n",
        "model.add(Dense(units=10, activation='softmax')) #units=10 - liczba klas, które chcemy przewidzieć, funkcja softmax zwróci nam prawdopodobieństwo poszczególnych klas\n",
        "\n",
        "model.summary() #podsumowanie modelu"
      ],
      "execution_count": 71,
      "outputs": [
        {
          "output_type": "stream",
          "text": [
            "Model: \"sequential_3\"\n",
            "_________________________________________________________________\n",
            "Layer (type)                 Output Shape              Param #   \n",
            "=================================================================\n",
            "conv2d_5 (Conv2D)            (None, 26, 26, 32)        320       \n",
            "_________________________________________________________________\n",
            "conv2d_6 (Conv2D)            (None, 24, 24, 64)        18496     \n",
            "_________________________________________________________________\n",
            "max_pooling2d_3 (MaxPooling2 (None, 12, 12, 64)        0         \n",
            "_________________________________________________________________\n",
            "flatten_3 (Flatten)          (None, 9216)              0         \n",
            "_________________________________________________________________\n",
            "dense_5 (Dense)              (None, 128)               1179776   \n",
            "_________________________________________________________________\n",
            "dense_6 (Dense)              (None, 10)                1290      \n",
            "=================================================================\n",
            "Total params: 1,199,882\n",
            "Trainable params: 1,199,882\n",
            "Non-trainable params: 0\n",
            "_________________________________________________________________\n"
          ],
          "name": "stdout"
        }
      ]
    },
    {
      "cell_type": "code",
      "metadata": {
        "id": "P1DhqvA6GNHF",
        "colab_type": "code",
        "colab": {}
      },
      "source": [
        "model.compile(optimizer='adadelta', \n",
        "              loss='categorical_crossentropy',\n",
        "              metrics=['accuracy']) #skompilowanie modelu, jako argumenty podany został optymalozator, funkcja straty oraz metryka "
      ],
      "execution_count": 0,
      "outputs": []
    },
    {
      "cell_type": "code",
      "metadata": {
        "id": "q8volAapG3sD",
        "colab_type": "code",
        "outputId": "26617340-61f0-4038-c59f-ea69ec28f198",
        "colab": {
          "base_uri": "https://localhost:8080/",
          "height": 370
        }
      },
      "source": [
        "his = model.fit(train_images, train_labels, batch_size=128, epochs=10, validation_data=(test_images, test_labels)) #metoda fit trenuje model dla określonej liczby epok\n",
        "#jako argumenty podane są dane treningowe, batch_size - liczba pobieranych próbek, epochs - liczba epok, validation_data - dane testowe, na ich podstawie można oszacować stratę"
      ],
      "execution_count": 73,
      "outputs": [
        {
          "output_type": "stream",
          "text": [
            "Train on 60000 samples, validate on 10000 samples\n",
            "Epoch 1/10\n",
            "60000/60000 [==============================] - 4s 64us/step - loss: 0.4968 - acc: 0.8220 - val_loss: 0.4205 - val_acc: 0.8449\n",
            "Epoch 2/10\n",
            "60000/60000 [==============================] - 3s 58us/step - loss: 0.2983 - acc: 0.8909 - val_loss: 0.3085 - val_acc: 0.8892\n",
            "Epoch 3/10\n",
            "60000/60000 [==============================] - 3s 56us/step - loss: 0.2473 - acc: 0.9098 - val_loss: 0.3141 - val_acc: 0.8845\n",
            "Epoch 4/10\n",
            "60000/60000 [==============================] - 3s 58us/step - loss: 0.2115 - acc: 0.9222 - val_loss: 0.2596 - val_acc: 0.9048\n",
            "Epoch 5/10\n",
            "60000/60000 [==============================] - 3s 58us/step - loss: 0.1828 - acc: 0.9322 - val_loss: 0.2385 - val_acc: 0.9169\n",
            "Epoch 6/10\n",
            "60000/60000 [==============================] - 3s 58us/step - loss: 0.1590 - acc: 0.9414 - val_loss: 0.2486 - val_acc: 0.9128\n",
            "Epoch 7/10\n",
            "60000/60000 [==============================] - 3s 57us/step - loss: 0.1354 - acc: 0.9497 - val_loss: 0.2646 - val_acc: 0.9132\n",
            "Epoch 8/10\n",
            "60000/60000 [==============================] - 3s 57us/step - loss: 0.1155 - acc: 0.9580 - val_loss: 0.2285 - val_acc: 0.9228\n",
            "Epoch 9/10\n",
            "60000/60000 [==============================] - 3s 57us/step - loss: 0.0963 - acc: 0.9647 - val_loss: 0.2645 - val_acc: 0.9149\n",
            "Epoch 10/10\n",
            "60000/60000 [==============================] - 3s 58us/step - loss: 0.0800 - acc: 0.9711 - val_loss: 0.2555 - val_acc: 0.9224\n"
          ],
          "name": "stdout"
        }
      ]
    },
    {
      "cell_type": "code",
      "metadata": {
        "id": "BpYPehokHX3-",
        "colab_type": "code",
        "colab": {}
      },
      "source": [
        "def make_accuracy_plot(his): #dwie funkcje, które utworzą wykres przedstawiający historie nauki \n",
        "\n",
        "  acc, val_acc = his.history['acc'], his.history['val_acc']\n",
        "  epochs = range(1, len(acc) + 1)\n",
        "\n",
        "  plt.figure(figsize=(10, 8))\n",
        "  plt.plot(epochs, acc, label='dokladnosc trenowania', marker='o')\n",
        "  plt.plot(epochs, val_acc, label='dokladnosc walidacji', marker='o')\n",
        "  plt.legend()\n",
        "  plt.title('dokladnosc trenowania i walidacji')\n",
        "  plt.xlabel('epoki')\n",
        "  plt.ylabel('dokladnosc')\n",
        "  plt.show()\n",
        "\n",
        "def make_loss_plot(his):\n",
        "  loss, val_loss = his.history['loss'], his.history['val_loss']\n",
        "  epochs = range(1, len(loss) + 1)\n",
        "\n",
        "  plt.figure(figsize=(10, 8))\n",
        "  plt.plot(epochs, loss, label='strata trenowania', marker='o')\n",
        "  plt.plot(epochs, val_loss, label='strata walidacji', marker='o')\n",
        "  plt.legend()\n",
        "  plt.title('strata trenowania i walidacji')\n",
        "  plt.xlabel('epoki')\n",
        "  plt.ylabel('strata')\n",
        "  plt.show()"
      ],
      "execution_count": 0,
      "outputs": []
    },
    {
      "cell_type": "code",
      "metadata": {
        "id": "hiNCV7QAhYEU",
        "colab_type": "code",
        "colab": {
          "base_uri": "https://localhost:8080/",
          "height": 518
        },
        "outputId": "ac3779c5-9dde-4045-d589-481f192cf891"
      },
      "source": [
        "make_accuracy_plot(his) #wykres przedstawia odpowiednio dokładność trenowania orazdokładnośc walidacji"
      ],
      "execution_count": 75,
      "outputs": [
        {
          "output_type": "display_data",
          "data": {
            "image/png": "[encoded data removed]",
            "text/plain": [
              "<Figure size 720x576 with 1 Axes>"
            ]
          },
          "metadata": {
            "tags": []
          }
        }
      ]
    },
    {
      "cell_type": "code",
      "metadata": {
        "id": "f76o1LY0hhnt",
        "colab_type": "code",
        "colab": {
          "base_uri": "https://localhost:8080/",
          "height": 518
        },
        "outputId": "eb8e9108-c20c-478a-de33-8b51abb3d5be"
      },
      "source": [
        "make_loss_plot(his) #na wykresie zaobserwowano, że model uległ przeuczeniu po 3 epoce na co wskazuje pomarańczowa linia"
      ],
      "execution_count": 76,
      "outputs": [
        {
          "output_type": "display_data",
          "data": {
            "image/png": "[encoded data removed]",
            "text/plain": [
              "<Figure size 720x576 with 1 Axes>"
            ]
          },
          "metadata": {
            "tags": []
          }
        }
      ]
    },
    {
      "cell_type": "code",
      "metadata": {
        "id": "Ii_LQb_roDqu",
        "colab_type": "code",
        "colab": {
          "base_uri": "https://localhost:8080/",
          "height": 353
        },
        "outputId": "21515e81-a657-4d34-b843-0bdb46b6f90d"
      },
      "source": [
        "test_labels[0:20]"
      ],
      "execution_count": 97,
      "outputs": [
        {
          "output_type": "execute_result",
          "data": {
            "text/plain": [
              "array([[0., 0., 0., 0., 0., 0., 0., 0., 0., 1.],\n",
              "       [0., 0., 1., 0., 0., 0., 0., 0., 0., 0.],\n",
              "       [0., 1., 0., 0., 0., 0., 0., 0., 0., 0.],\n",
              "       [0., 1., 0., 0., 0., 0., 0., 0., 0., 0.],\n",
              "       [0., 0., 0., 0., 0., 0., 1., 0., 0., 0.],\n",
              "       [0., 1., 0., 0., 0., 0., 0., 0., 0., 0.],\n",
              "       [0., 0., 0., 0., 1., 0., 0., 0., 0., 0.],\n",
              "       [0., 0., 0., 0., 0., 0., 1., 0., 0., 0.],\n",
              "       [0., 0., 0., 0., 0., 1., 0., 0., 0., 0.],\n",
              "       [0., 0., 0., 0., 0., 0., 0., 1., 0., 0.],\n",
              "       [0., 0., 0., 0., 1., 0., 0., 0., 0., 0.],\n",
              "       [0., 0., 0., 0., 0., 1., 0., 0., 0., 0.],\n",
              "       [0., 0., 0., 0., 0., 0., 0., 1., 0., 0.],\n",
              "       [0., 0., 0., 1., 0., 0., 0., 0., 0., 0.],\n",
              "       [0., 0., 0., 0., 1., 0., 0., 0., 0., 0.],\n",
              "       [0., 1., 0., 0., 0., 0., 0., 0., 0., 0.],\n",
              "       [0., 0., 1., 0., 0., 0., 0., 0., 0., 0.],\n",
              "       [0., 0., 0., 0., 1., 0., 0., 0., 0., 0.],\n",
              "       [0., 0., 0., 0., 0., 0., 0., 0., 1., 0.],\n",
              "       [1., 0., 0., 0., 0., 0., 0., 0., 0., 0.]], dtype=float32)"
            ]
          },
          "metadata": {
            "tags": []
          },
          "execution_count": 97
        }
      ]
    },
    {
      "cell_type": "code",
      "metadata": {
        "id": "9iMYAMb615Er",
        "colab_type": "code",
        "colab": {}
      },
      "source": [
        ""
      ],
      "execution_count": 0,
      "outputs": []
    }
  ]
}